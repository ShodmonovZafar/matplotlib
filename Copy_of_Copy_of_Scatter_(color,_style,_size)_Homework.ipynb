{
  "nbformat": 4,
  "nbformat_minor": 0,
  "metadata": {
    "colab": {
      "provenance": [],
      "collapsed_sections": [
        "nTWb5zUBljiR",
        "aGZmp-zAmDph",
        "Qa4iOwLdmgCx",
        "kZwfS5YSngZb",
        "80xVyb2BpONT",
        "vgtJrORspQVy",
        "7K_ZpRErp9eb",
        "-KH5DGa8sMTR"
      ],
      "toc_visible": true,
      "include_colab_link": true
    },
    "kernelspec": {
      "name": "python3",
      "display_name": "Python 3"
    },
    "language_info": {
      "name": "python"
    }
  },
  "cells": [
    {
      "cell_type": "markdown",
      "metadata": {
        "id": "view-in-github",
        "colab_type": "text"
      },
      "source": [
        "<a href=\"https://colab.research.google.com/github/ShodmonovZafar/matplotlib/blob/main/Copy_of_Copy_of_Scatter_(color%2C_style%2C_size)_Homework.ipynb\" target=\"_parent\"><img src=\"https://colab.research.google.com/assets/colab-badge.svg\" alt=\"Open In Colab\"/></a>"
      ]
    },
    {
      "cell_type": "markdown",
      "metadata": {
        "id": "vcZ4N5DFk4c3"
      },
      "source": [
        "# 1 Scatter (color, style, size)"
      ]
    },
    {
      "cell_type": "markdown",
      "source": [
        "# New Section"
      ],
      "metadata": {
        "id": "rSexIS90r_JY"
      }
    },
    {
      "cell_type": "code",
      "metadata": {
        "id": "qrdkkwXflQc2"
      },
      "source": [
        "# Adding Maplotlib module\n",
        "import matplotlib.pyplot as plt"
      ],
      "execution_count": null,
      "outputs": []
    },
    {
      "cell_type": "markdown",
      "metadata": {
        "id": "nTWb5zUBljiR"
      },
      "source": [
        "## 1. Plot one Data (Ma'lumotni tasvirlang)\n",
        "   \n",
        "   <b>Input</b>\n",
        "  <table align=\"left\"> \n",
        "  <tr>\n",
        "    <th><font size=\"3\">X</font></th>\n",
        "    <th><font size=\"3\">Y</font></th>\n",
        "  </tr>\n",
        "  <tr>\n",
        "    <td><font size=\"3\">4</font></td>\n",
        "    <td><font size=\"3\">9</font></td>\n",
        "  </tr>\n",
        "  </table>"
      ]
    },
    {
      "cell_type": "code",
      "metadata": {
        "id": "xZURY96Qk8wj"
      },
      "source": [
        "def one_point(x,y):\n",
        "  '''\n",
        "  Parameters: x and y axis points;\n",
        "  '''\n",
        "  # Write the code here\n",
        "  plt.scatter(x, y)\n",
        "  plt.show()\n"
      ],
      "execution_count": null,
      "outputs": []
    },
    {
      "cell_type": "code",
      "source": [
        "one_point(4, 9)"
      ],
      "metadata": {
        "colab": {
          "base_uri": "https://localhost:8080/",
          "height": 265
        },
        "id": "hTHu80c5ZX0G",
        "outputId": "b9debada-23dc-4d64-cd5c-4353ed01e205"
      },
      "execution_count": null,
      "outputs": [
        {
          "output_type": "display_data",
          "data": {
            "text/plain": [
              "<Figure size 432x288 with 1 Axes>"
            ],
            "image/png": "[encoded data removed]"
          },
          "metadata": {
            "needs_background": "light"
          }
        }
      ]
    },
    {
      "cell_type": "markdown",
      "metadata": {
        "id": "aGZmp-zAmDph"
      },
      "source": [
        "## 2. Plot list of Data (Listdagi ma'lumotlarni tasvirlang)\n",
        "\n",
        "   <b>Input</b>\n",
        "  <table align=\"left\"> \n",
        "  <tr>\n",
        "    <th><font size=\"3\">X</font></th>\n",
        "    <th><font size=\"3\">Y</font></th>\n",
        "  </tr>\n",
        "  <tr>\n",
        "    <td><font size=\"3\">1</font></td>\n",
        "    <td><font size=\"3\">2</font></td>\n",
        "  </tr>\n",
        "   <tr>\n",
        "    <td><font size=\"3\">2</font></td>\n",
        "    <td><font size=\"3\">4</font></td>\n",
        "  </tr>\n",
        "    <tr>\n",
        "    <td><font size=\"3\">3</font></td>\n",
        "    <td><font size=\"3\">6</font></td>\n",
        "  </tr>\n",
        "      <tr>\n",
        "    <td><font size=\"3\">4</font></td>\n",
        "    <td><font size=\"3\">3</font></td>\n",
        "  </tr>\n",
        "      <tr>\n",
        "    <td><font size=\"3\">10</font></td>\n",
        "    <td><font size=\"3\">7</font></td>\n",
        "  </tr>\n",
        "  </table>"
      ]
    },
    {
      "cell_type": "code",
      "metadata": {
        "id": "k_VOqpI9mEpl"
      },
      "source": [
        "def list_points(x,y):\n",
        "  '''\n",
        "  Parameters: x and y axis points list;\n",
        "  '''\n",
        "  # Write the code here\n",
        "  plt.scatter(x, y)\n",
        "  plt.show()\n"
      ],
      "execution_count": null,
      "outputs": []
    },
    {
      "cell_type": "code",
      "source": [
        "x = [1, 2, 3, 4, 10]\n",
        "y = [2, 4, 6, 3, 7]\n",
        "list_points(x, y)"
      ],
      "metadata": {
        "colab": {
          "base_uri": "https://localhost:8080/",
          "height": 265
        },
        "id": "qMbsadMeZ2GN",
        "outputId": "ff213467-5bfd-43b7-802a-1e94592b7393"
      },
      "execution_count": null,
      "outputs": [
        {
          "output_type": "display_data",
          "data": {
            "text/plain": [
              "<Figure size 432x288 with 1 Axes>"
            ],
            "image/png": "[encoded data removed]"
          },
          "metadata": {
            "needs_background": "light"
          }
        }
      ]
    },
    {
      "cell_type": "markdown",
      "metadata": {
        "id": "Qa4iOwLdmgCx"
      },
      "source": [
        "## Marker color\n",
        "3. Change the color of points (Nuqtalar rangini o'zgartiring)\n",
        "\n",
        "   <b>Input</b>\n",
        "  <table align=\"left\"> \n",
        "  <tr>\n",
        "    <th align=\"center\"><font size=\"3\">X</font></th>\n",
        "    <th align=\"center\"><font size=\"3\">Y</font></th>\n",
        "    <th align=\"center\"><font size=\"3\">Color</font></th>\n",
        "  </tr>\n",
        "  <tr>\n",
        "    <td align=\"center\"><font size=\"3\">1</font></td>\n",
        "    <td align=\"center\"><font size=\"3\">2</font></td>\n",
        "    <td align=\"center\"><font size=\"3\" color='red'>red</font></td>\n",
        "  </tr>\n",
        "  <tr>\n",
        "    <td align=\"center\"><font size=\"3\">2</font></td>\n",
        "    <td align=\"center\"><font size=\"3\">4</font></td>\n",
        "    <td align=\"center\"><font size=\"3\" color='red'>red</font></td>\n",
        "  </tr>\n",
        "  <tr>\n",
        "    <td align=\"center\"><font size=\"3\">3</font></td>\n",
        "    <td align=\"center\"><font size=\"3\">6</font></td>\n",
        "    <td align=\"center\"><font size=\"3\" color='red'>red</font></td>\n",
        "  </tr>\n",
        "  <tr>\n",
        "    <td align=\"center\"><font size=\"3\">4</font></td>\n",
        "    <td align=\"center\"><font size=\"3\">3</font></td>\n",
        "    <td align=\"center\"><font size=\"3\" color='red'>red</font></td>\n",
        "  </tr>\n",
        "  <tr>\n",
        "    <td align=\"center\"><font size=\"3\">10</font></td>\n",
        "    <td align=\"center\"><font size=\"3\">7</font></td>\n",
        "    <td align=\"center\"><font size=\"3\" color='red'>red</font></td>\n",
        "  </tr>\n",
        "  </table>"
      ]
    },
    {
      "cell_type": "code",
      "metadata": {
        "id": "CWSnK8-OmhBt"
      },
      "source": [
        "def points_color(x,y,color):\n",
        "  '''\n",
        "  Parameters: x and y axis points list;\n",
        "  '''\n",
        "  # Write the code here\n",
        "  plt.scatter(x, y, c = color)\n",
        "  plt.show()"
      ],
      "execution_count": null,
      "outputs": []
    },
    {
      "cell_type": "code",
      "source": [
        "color = []\n",
        "for i in range(5):\n",
        "  color.append(\"red\")\n",
        "points_color(x, y, color)"
      ],
      "metadata": {
        "colab": {
          "base_uri": "https://localhost:8080/",
          "height": 265
        },
        "id": "psFgX5fqaT4Q",
        "outputId": "b00fb3b3-b1bc-4035-b204-fda1d259e1f7"
      },
      "execution_count": null,
      "outputs": [
        {
          "output_type": "display_data",
          "data": {
            "text/plain": [
              "<Figure size 432x288 with 1 Axes>"
            ],
            "image/png": "[encoded data removed]"
          },
          "metadata": {
            "needs_background": "light"
          }
        }
      ]
    },
    {
      "cell_type": "markdown",
      "metadata": {
        "id": "kZwfS5YSngZb"
      },
      "source": [
        "## Marker style\n",
        "4. Change the marker style (Markerlar shaklini o'zgartiring)\n",
        "\n",
        "   <b>Input</b>\n",
        "  <table align=\"left\"> \n",
        "  <tr>\n",
        "    <th align=\"center\"><font size=\"3\">X</font></th>\n",
        "    <th align=\"center\"><font size=\"3\">Y</font></th>\n",
        "    <th align=\"center\"><font size=\"3\">Color</font></th>\n",
        "    <th align=\"center\"><font size=\"3\">Style</font></th>\n",
        "  </tr>\n",
        "  <tr>\n",
        "    <td align=\"center\"><font size=\"3\">1</font></td>\n",
        "    <td align=\"center\"><font size=\"3\">2</font></td>\n",
        "    <td align=\"center\"><font size=\"3\" color='magenta'>m</font></td>\n",
        "    <td align=\"center\"><font size=\"3\">*</font></td>\n",
        "  </tr>\n",
        "  <tr>\n",
        "    <td align=\"center\"><font size=\"3\">2</font></td>\n",
        "    <td align=\"center\"><font size=\"3\">4</font></td>\n",
        "    <td align=\"center\"><font size=\"3\" color='magenta'>m</font></td>\n",
        "    <td align=\"center\"><font size=\"3\">*</font></td>\n",
        "  </tr>\n",
        "  <tr>\n",
        "    <td align=\"center\"><font size=\"3\">3</font></td>\n",
        "    <td align=\"center\"><font size=\"3\">6</font></td>\n",
        "    <td align=\"center\"><font size=\"3\" color='magenta'>m</font></td>\n",
        "    <td align=\"center\"><font size=\"3\">*</font></td>\n",
        "  </tr>\n",
        "  <tr>\n",
        "    <td align=\"center\"><font size=\"3\">4</font></td>\n",
        "    <td align=\"center\"><font size=\"3\">3</font></td>\n",
        "    <td align=\"center\"><font size=\"3\" color='magenta'>m</font></td>\n",
        "    <td align=\"center\"><font size=\"3\">*</font></td>\n",
        "  </tr>\n",
        "  <tr>\n",
        "    <td align=\"center\"><font size=\"3\">10</font></td>\n",
        "    <td align=\"center\"><font size=\"3\">7</font></td>\n",
        "    <td align=\"center\"><font size=\"3\" color='magenta'>m</font></td>\n",
        "    <td align=\"center\"><font size=\"3\">*</font></td>\n",
        "  </tr>\n",
        "  </table>"
      ]
    },
    {
      "cell_type": "code",
      "metadata": {
        "id": "sfemOeM5nhRY"
      },
      "source": [
        "def points_style(x : list, y : list, color: list, style: list):\n",
        "  '''\n",
        "  Parameters: x and y axis points list;\n",
        "  '''\n",
        "  # Write the code here\n",
        "  for i in range(len(x)):\n",
        "    plt.scatter(x[i], y[i], c = color[i], marker=style[i])\n",
        "  plt.show()"
      ],
      "execution_count": null,
      "outputs": []
    },
    {
      "cell_type": "code",
      "source": [
        "color = []\n",
        "style = []\n",
        "for i in range(5):\n",
        "  color.append(\"m\")\n",
        "  style.append(\"*\")"
      ],
      "metadata": {
        "id": "I4UeE8o3cIIx"
      },
      "execution_count": null,
      "outputs": []
    },
    {
      "cell_type": "code",
      "source": [
        "points_style(x, y, color, style)"
      ],
      "metadata": {
        "colab": {
          "base_uri": "https://localhost:8080/",
          "height": 265
        },
        "id": "JmwnuNdHcjiZ",
        "outputId": "e6c9aed3-65b8-4153-c9fb-0844a16eddb3"
      },
      "execution_count": null,
      "outputs": [
        {
          "output_type": "display_data",
          "data": {
            "text/plain": [
              "<Figure size 432x288 with 1 Axes>"
            ],
            "image/png": "[encoded data removed]"
          },
          "metadata": {
            "needs_background": "light"
          }
        }
      ]
    },
    {
      "cell_type": "markdown",
      "metadata": {
        "id": "80xVyb2BpONT"
      },
      "source": [
        "## Marker size\n",
        "5. Change the size of the points (Nuqtalar hajmini o'zgartiring)\n",
        "\n",
        "   <b>Input</b>\n",
        "  <table align=\"left\"> \n",
        "  <tr>\n",
        "    <th align=\"center\"><font size=\"3\">X</font></th>\n",
        "    <th align=\"center\"><font size=\"3\">Y</font></th>\n",
        "    <th align=\"center\"><font size=\"3\">Size</font></th>\n",
        "  </tr>\n",
        "  <tr>\n",
        "    <td align=\"center\"><font size=\"3\">1</font></td>\n",
        "    <td align=\"center\"><font size=\"3\">2</font></td>\n",
        "    <td align=\"center\"><font size=\"3\">100</font></td>\n",
        "  </tr>\n",
        "  <tr>\n",
        "    <td align=\"center\"><font size=\"3\">2</font></td>\n",
        "    <td align=\"center\"><font size=\"3\">4</font></td>\n",
        "    <td align=\"center\"><font size=\"3\">100</font></td>\n",
        "  </tr>\n",
        "  <tr>\n",
        "    <td align=\"center\"><font size=\"3\">3</font></td>\n",
        "    <td align=\"center\"><font size=\"3\">6</font></td>\n",
        "    <td align=\"center\"><font size=\"3\">100</font></td>\n",
        "  </tr>\n",
        "  <tr>\n",
        "    <td align=\"center\"><font size=\"3\">4</font></td>\n",
        "    <td align=\"center\"><font size=\"3\">3</font></td>\n",
        "    <td align=\"center\"><font size=\"3\">100</font></td>\n",
        "  </tr>\n",
        "  <tr>\n",
        "    <td align=\"center\"><font size=\"3\">10</font></td>\n",
        "    <td align=\"center\"><font size=\"3\">7</font></td>\n",
        "    <td align=\"center\"><font size=\"3\">100</font></td>\n",
        "  </tr>\n",
        "  </table>"
      ]
    },
    {
      "cell_type": "code",
      "metadata": {
        "id": "47027sQjoeQM"
      },
      "source": [
        "def points_size(x: list, y: list, size: list):\n",
        "  '''\n",
        "  Parameters: x and y axis points list;\n",
        "  '''\n",
        "  # Write the code here\n",
        "  for i in range(len(x)):\n",
        "    plt.scatter(x[i], y[i], s = size[i])\n",
        "  plt.show()"
      ],
      "execution_count": null,
      "outputs": []
    },
    {
      "cell_type": "code",
      "source": [
        "size = [100] * 5"
      ],
      "metadata": {
        "id": "gERfnnt5d545"
      },
      "execution_count": null,
      "outputs": []
    },
    {
      "cell_type": "code",
      "source": [
        "points_size(x, y, size)"
      ],
      "metadata": {
        "colab": {
          "base_uri": "https://localhost:8080/",
          "height": 265
        },
        "id": "--VsY_ggeAjv",
        "outputId": "2e4d787d-0c32-4aae-daf2-2c3970ee7be6"
      },
      "execution_count": null,
      "outputs": [
        {
          "output_type": "display_data",
          "data": {
            "text/plain": [
              "<Figure size 432x288 with 1 Axes>"
            ],
            "image/png": "[encoded data removed]"
          },
          "metadata": {
            "needs_background": "light"
          }
        }
      ]
    },
    {
      "cell_type": "markdown",
      "metadata": {
        "id": "vgtJrORspQVy"
      },
      "source": [
        "## List of colors\n",
        "6. Plot different colored points (Turli xil ranglarni belgilang) \n",
        "\n",
        "   Input\n",
        "  <table align=\"left\"> \n",
        "  <tr>\n",
        "    <th align=\"center\"><font size=\"3\">X</font></th>\n",
        "    <th align=\"center\"><font size=\"3\">Y</font></th>\n",
        "    <th align=\"center\"><font size=\"3\">Color</font></th>\n",
        "  </tr>\n",
        "  <tr>\n",
        "    <td align=\"center\"><font size=\"3\">1</font></td>\n",
        "    <td align=\"center\"><font size=\"3\">2</font></td>\n",
        "    <td align=\"center\"><font size=\"3\" color='cyan'>c</font></td>\n",
        "  </tr>\n",
        "  <tr>\n",
        "    <td align=\"center\"><font size=\"3\">2</font></td>\n",
        "    <td align=\"center\"><font size=\"3\">4</font></td>\n",
        "    <td align=\"center\"><font size=\"3\" color='magenta'>m</font></td>\n",
        "  </tr>\n",
        "  <tr>\n",
        "    <td align=\"center\"><font size=\"3\">3</font></td>\n",
        "    <td align=\"center\"><font size=\"3\">6</font></td>\n",
        "    <td align=\"center\"><font size=\"3\" color='red'>r</font></td>\n",
        "  </tr>\n",
        "  <tr>\n",
        "    <td align=\"center\"><font size=\"3\">4</font></td>\n",
        "    <td align=\"center\"><font size=\"3\">3</font></td>\n",
        "    <td align=\"center\"><font size=\"3\" color='yellow'>y</font></td>\n",
        "  </tr>\n",
        "  <tr>\n",
        "    <td align=\"center\"><font size=\"3\">10</font></td>\n",
        "    <td align=\"center\"><font size=\"3\">7</font></td>\n",
        "    <td align=\"center\"><font size=\"3\" color='blue'>b</font></td>\n",
        "  </tr>\n",
        "  </table>"
      ]
    },
    {
      "cell_type": "code",
      "source": [
        "del color"
      ],
      "metadata": {
        "id": "LvIhYvtdeRHr"
      },
      "execution_count": null,
      "outputs": []
    },
    {
      "cell_type": "code",
      "source": [
        "color = ['c', 'm', 'r', 'y', 'b']"
      ],
      "metadata": {
        "id": "MRexqd-HeY8u"
      },
      "execution_count": null,
      "outputs": []
    },
    {
      "cell_type": "code",
      "metadata": {
        "id": "48gaNv3spRJ1"
      },
      "source": [
        "def each_point_color(x: list, y: list, color: list):\n",
        "  '''\n",
        "  Parameters: x and y axis points list;\n",
        "  '''\n",
        "  # Write the code here\n",
        "  for i in range(len(x)):\n",
        "    plt.scatter(x[i], y[i], c = color[i])\n",
        "  plt.show()"
      ],
      "execution_count": null,
      "outputs": []
    },
    {
      "cell_type": "code",
      "source": [
        "each_point_color(x, y, color)"
      ],
      "metadata": {
        "colab": {
          "base_uri": "https://localhost:8080/",
          "height": 265
        },
        "id": "n57lLc_de9ly",
        "outputId": "ab551139-b2c4-4245-f0f2-c7c46913a05b"
      },
      "execution_count": null,
      "outputs": [
        {
          "output_type": "display_data",
          "data": {
            "text/plain": [
              "<Figure size 432x288 with 1 Axes>"
            ],
            "image/png": "[encoded data removed]"
          },
          "metadata": {
            "needs_background": "light"
          }
        }
      ]
    },
    {
      "cell_type": "markdown",
      "metadata": {
        "id": "7K_ZpRErp9eb"
      },
      "source": [
        "## List of marker style\n",
        "7. Plot different styled points (Nuqtalarni turli shaklda tasvirlang)\n",
        "\n",
        "   <b>Input</b>\n",
        "  <table align=\"left\"> \n",
        "  <tr>\n",
        "    <th align=\"center\"><font size=\"3\">X</font></th>\n",
        "    <th align=\"center\"><font size=\"3\">Y</font></th>\n",
        "    <th align=\"center\"><font size=\"3\">Color</font></th>\n",
        "    <th align=\"center\"><font size=\"3\">Style</font></th>\n",
        "  </tr>\n",
        "  <tr>\n",
        "    <td align=\"center\"><font size=\"3\">1</font></td>\n",
        "    <td align=\"center\"><font size=\"3\">2</font></td>\n",
        "    <td align=\"center\"><font size=\"3\" color='magenta'>m</font></td>\n",
        "    <td align=\"center\"><font size=\"3\">3</font></td>\n",
        "  </tr>\n",
        "  <tr>\n",
        "    <td align=\"center\"><font size=\"3\">2</font></td>\n",
        "    <td align=\"center\"><font size=\"3\">4</font></td>\n",
        "    <td align=\"center\"><font size=\"3\" color='magenta'>m</font></td>\n",
        "    <td align=\"center\"><font size=\"3\">p</font></td>\n",
        "  </tr>\n",
        "  <tr>\n",
        "    <td align=\"center\"><font size=\"3\">3</font></td>\n",
        "    <td align=\"center\"><font size=\"3\">6</font></td>\n",
        "    <td align=\"center\"><font size=\"3\" color='magenta'>m</font></td>\n",
        "    <td align=\"center\"><font size=\"3\">s</font></td>\n",
        "  </tr>\n",
        "  <tr>\n",
        "    <td align=\"center\"><font size=\"3\">4</font></td>\n",
        "    <td align=\"center\"><font size=\"3\">3</font></td>\n",
        "    <td align=\"center\"><font size=\"3\" color='magenta'>m</font></td>\n",
        "    <td align=\"center\"><font size=\"3\">v</font></td>\n",
        "  </tr>\n",
        "  <tr>\n",
        "    <td align=\"center\"><font size=\"3\">10</font></td>\n",
        "    <td align=\"center\"><font size=\"3\">7</font></td>\n",
        "    <td align=\"center\"><font size=\"3\" color='magenta'>m</font></td>\n",
        "    <td align=\"center\"><font size=\"3\">*</font></td>\n",
        "  </tr>\n",
        "\n",
        "  </table>"
      ]
    },
    {
      "cell_type": "code",
      "source": [
        "del style\n",
        "style = ['3', 'p', 's', 'v', '*']"
      ],
      "metadata": {
        "id": "T3J18_dmfTJA"
      },
      "execution_count": null,
      "outputs": []
    },
    {
      "cell_type": "code",
      "metadata": {
        "id": "QYhaVf2Gp-dJ"
      },
      "source": [
        "def each_point_style(x,y,color,style):\n",
        "  '''\n",
        "  Parameters: x and y axis points list;\n",
        "  '''\n",
        "  # Write the code here\n",
        "  for i in range(len(x)):\n",
        "    plt.scatter(x[i], y[i], c = color[i], marker = style[i])\n",
        "  plt.show()"
      ],
      "execution_count": null,
      "outputs": []
    },
    {
      "cell_type": "code",
      "source": [
        "del color\n",
        "color = ['m'] * 5"
      ],
      "metadata": {
        "id": "aWUpYcqEgWgY"
      },
      "execution_count": null,
      "outputs": []
    },
    {
      "cell_type": "code",
      "source": [
        "each_point_style(x, y, color, style)"
      ],
      "metadata": {
        "colab": {
          "base_uri": "https://localhost:8080/",
          "height": 265
        },
        "id": "hTNzwkjmgfOB",
        "outputId": "6028f6e1-a390-49f1-8a86-a183fa84a051"
      },
      "execution_count": null,
      "outputs": [
        {
          "output_type": "display_data",
          "data": {
            "text/plain": [
              "<Figure size 432x288 with 1 Axes>"
            ],
            "image/png": "[encoded data removed]"
          },
          "metadata": {
            "needs_background": "light"
          }
        }
      ]
    },
    {
      "cell_type": "markdown",
      "metadata": {
        "id": "-KH5DGa8sMTR"
      },
      "source": [
        "## Customize style and size\n",
        "8.  Plot points with different style and size (Turli xil o'lchamdagi nuqtalarni tasvirlang)\n",
        "\n",
        "  <b>Input</b>\n",
        "  <table align=\"left\"> \n",
        "  <tr>\n",
        "    <th align=\"center\"><font size=\"3\">X</font></th>\n",
        "    <th align=\"center\"><font size=\"3\">Y</font></th>\n",
        "    <th align=\"center\"><font size=\"3\">Color</font></th>\n",
        "    <th align=\"center\"><font size=\"3\">Style</font></th>\n",
        "    <th align=\"center\"><font size=\"3\">Size</font></th>\n",
        "  </tr>\n",
        "  <tr>\n",
        "    <td align=\"center\"><font size=\"3\">1</font></td>\n",
        "    <td align=\"center\"><font size=\"3\">2</font></td>\n",
        "    <td align=\"center\"><font size=\"3\" color='magenta'>m</font></td>\n",
        "    <td align=\"center\"><font size=\"3\">3</font></td>\n",
        "    <td align=\"center\"><font size=\"3\">100</font></td>\n",
        "  </tr>\n",
        "  <tr>\n",
        "    <td align=\"center\"><font size=\"3\">2</font></td>\n",
        "    <td align=\"center\"><font size=\"3\">4</font></td>\n",
        "    <td align=\"center\"><font size=\"3\" color='magenta'>m</font></td>\n",
        "    <td align=\"center\"><font size=\"3\">p</font></td>\n",
        "    <td align=\"center\"><font size=\"3\">150</font></td>\n",
        "  </tr>\n",
        "  <tr>\n",
        "    <td align=\"center\"><font size=\"3\">3</font></td>\n",
        "    <td align=\"center\"><font size=\"3\">6</font></td>\n",
        "    <td align=\"center\"><font size=\"3\" color='magenta'>m</font></td>\n",
        "    <td align=\"center\"><font size=\"3\">s</font></td>\n",
        "    <td align=\"center\"><font size=\"3\">120</font></td>\n",
        "  </tr>\n",
        "  <tr>\n",
        "    <td align=\"center\"><font size=\"3\">4</font></td>\n",
        "    <td align=\"center\"><font size=\"3\">3</font></td>\n",
        "    <td align=\"center\"><font size=\"3\" color='magenta'>m</font></td>\n",
        "    <td align=\"center\"><font size=\"3\">v</font></td>\n",
        "    <td align=\"center\"><font size=\"3\">110</font></td>\n",
        "  </tr>\n",
        "  <tr>\n",
        "    <td align=\"center\"><font size=\"3\">10</font></td>\n",
        "    <td align=\"center\"><font size=\"3\">7</font></td>\n",
        "    <td align=\"center\"><font size=\"3\" color='magenta'>m</font></td>\n",
        "    <td align=\"center\"><font size=\"3\">*</font></td>\n",
        "    <td align=\"center\"><font size=\"3\">90</font></td>\n",
        "  </tr>\n",
        "\n",
        "  </table>"
      ]
    },
    {
      "cell_type": "code",
      "source": [
        "del size\n",
        "size = [100, 150, 120, 110, 90]"
      ],
      "metadata": {
        "id": "svBchGOIhHW0"
      },
      "execution_count": null,
      "outputs": []
    },
    {
      "cell_type": "code",
      "metadata": {
        "id": "zHACRfqbsNlr"
      },
      "source": [
        "def each_point_style_and_size(x: list, y: list, color: list, style: list, size: list):\n",
        "  '''\n",
        "  Parameters: x and y axis points list;\n",
        "  '''\n",
        "  # Write the code here\n",
        "  for i in range(len(x)):\n",
        "    plt.scatter(x[i], y[i], c = color[i], marker = style[i], s = size[i])\n",
        "  plt.show()"
      ],
      "execution_count": null,
      "outputs": []
    },
    {
      "cell_type": "code",
      "source": [
        "each_point_style_and_size(x, y, color, style, size)"
      ],
      "metadata": {
        "colab": {
          "base_uri": "https://localhost:8080/",
          "height": 265
        },
        "id": "qVAfBB5sh_gb",
        "outputId": "311473d9-5057-4e97-ae26-b56b8b7848ca"
      },
      "execution_count": null,
      "outputs": [
        {
          "output_type": "display_data",
          "data": {
            "text/plain": [
              "<Figure size 432x288 with 1 Axes>"
            ],
            "image/png": "[encoded data removed]"
          },
          "metadata": {
            "needs_background": "light"
          }
        }
      ]
    },
    {
      "cell_type": "markdown",
      "metadata": {
        "id": "M4fj3JiJtZrm"
      },
      "source": [
        "## Customize of color, style and size\n",
        "9.  Plot points with different color, style, and size (Turli xil o'lcham, rang va shakldagi nuqtalarni tasvirlang)\n",
        "\n",
        "   **Input**\n",
        "  <table align=\"left\"> \n",
        "  <tr>\n",
        "    <th align=\"center\"><font size=\"3\">X</font></th>\n",
        "    <th align=\"center\"><font size=\"3\">Y</font></th>\n",
        "    <th align=\"center\"><font size=\"3\">Color</font></th>\n",
        "    <th align=\"center\"><font size=\"3\">Style</font></th>\n",
        "    <th align=\"center\"><font size=\"3\">Size</font></th>\n",
        "  </tr>\n",
        "  <tr>\n",
        "    <td align=\"center\"><font size=\"3\">1</font></td>\n",
        "    <td align=\"center\"><font size=\"3\">2</font></td>\n",
        "    <td align=\"center\"><font size=\"3\" color='blue'>b</font></td>\n",
        "    <td align=\"center\"><font size=\"3\">3</font></td>\n",
        "    <td align=\"center\"><font size=\"3\">100</font></td>\n",
        "  </tr>\n",
        "  <tr>\n",
        "    <td align=\"center\"><font size=\"3\">2</font></td>\n",
        "    <td align=\"center\"><font size=\"3\">4</font></td>\n",
        "    <td align=\"center\"><font size=\"3\" color='yellow'>y</font></td>\n",
        "    <td align=\"center\"><font size=\"3\">p</font></td>\n",
        "    <td align=\"center\"><font size=\"3\">150</font></td>\n",
        "  </tr>\n",
        "  <tr>\n",
        "    <td align=\"center\"><font size=\"3\">3</font></td>\n",
        "    <td align=\"center\"><font size=\"3\">6</font></td>\n",
        "    <td align=\"center\"><font size=\"3\" color='green'>g</font></td>\n",
        "    <td align=\"center\"><font size=\"3\">s</font></td>\n",
        "    <td align=\"center\"><font size=\"3\">120</font></td>\n",
        "  </tr>\n",
        "  <tr>\n",
        "    <td align=\"center\"><font size=\"3\">4</font></td>\n",
        "    <td align=\"center\"><font size=\"3\">3</font></td>\n",
        "    <td align=\"center\"><font size=\"3\" color='red'>r</font></td>\n",
        "    <td align=\"center\"><font size=\"3\">v</font></td>\n",
        "    <td align=\"center\"><font size=\"3\">110</font></td>\n",
        "  </tr>\n",
        "  <tr>\n",
        "    <td align=\"center\"><font size=\"3\">10</font></td>\n",
        "    <td align=\"center\"><font size=\"3\">7</font></td>\n",
        "    <td align=\"center\"><font size=\"3\" color='magenta'>m</font></td>\n",
        "    <td align=\"center\"><font size=\"3\">*</font></td>\n",
        "    <td align=\"center\"><font size=\"3\">90</font></td>\n",
        "  </tr>\n",
        "    \n",
        "  </tr>\n",
        "  </table>"
      ]
    },
    {
      "cell_type": "code",
      "source": [
        "del color\n",
        "color = ['b', 'y', 'g', 'r', 'm']"
      ],
      "metadata": {
        "id": "kg_4SXXHiXBQ"
      },
      "execution_count": null,
      "outputs": []
    },
    {
      "cell_type": "code",
      "metadata": {
        "id": "435B2ofCtafL"
      },
      "source": [
        "def each_point_style_size_color(x: list, y: list, color: list, style: list, size: list):\n",
        "  '''\n",
        "  Parameters: x and y axis points list;\n",
        "  '''\n",
        "  # Write the code here\n",
        "  for i in range(len(x)):\n",
        "    plt.scatter(x[i], y[i], s = size[i], c = color[i], marker = style[i])\n",
        "  plt.show()"
      ],
      "execution_count": null,
      "outputs": []
    },
    {
      "cell_type": "code",
      "source": [
        "each_point_style_size_color(x, y, color, style, size)"
      ],
      "metadata": {
        "colab": {
          "base_uri": "https://localhost:8080/",
          "height": 265
        },
        "id": "uibwlFuIi-fb",
        "outputId": "e92f12b8-0cbc-4380-f3c1-b6ae00d4488d"
      },
      "execution_count": null,
      "outputs": [
        {
          "output_type": "display_data",
          "data": {
            "text/plain": [
              "<Figure size 432x288 with 1 Axes>"
            ],
            "image/png": "[encoded data removed]"
          },
          "metadata": {
            "needs_background": "light"
          }
        }
      ]
    }
  ]
}